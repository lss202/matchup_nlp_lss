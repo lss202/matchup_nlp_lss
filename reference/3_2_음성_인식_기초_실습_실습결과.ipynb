{
  "cells": [
    {
      "cell_type": "markdown",
      "metadata": {
        "id": "c02DFXjw9dGu"
      },
      "source": [
        "# 3. 음성 인식 기초"
      ]
    },
    {
      "cell_type": "markdown",
      "metadata": {
        "id": "82-6i9Gi9dGz"
      },
      "source": [
        "## 3-2 음성 인식 기초 실습"
      ]
    },
    {
      "cell_type": "markdown",
      "metadata": {
        "id": "5GPT8Hla9dG1"
      },
      "source": [
        "### 1. 실습환경 설정"
      ]
    },
    {
      "cell_type": "markdown",
      "metadata": {
        "id": "-qu37arJ9dG2"
      },
      "source": [
        "#### 1.1. 활용 라이브러리 소개 : SpeechRecognition"
      ]
    },
    {
      "cell_type": "code",
      "execution_count": null,
      "metadata": {
        "id": "suHlBQDm9dG2"
      },
      "outputs": [],
      "source": [
        "# !pip install numpy==1.24.1"
      ]
    },
    {
      "cell_type": "code",
      "execution_count": null,
      "metadata": {
        "colab": {
          "base_uri": "https://localhost:8080/"
        },
        "id": "sJs4ipoO9dG4",
        "outputId": "e7a2cd22-f656-4998-8d52-e0b25d9a21ea"
      },
      "outputs": [
        {
          "output_type": "stream",
          "name": "stdout",
          "text": [
            "Collecting SpeechRecognition\n",
            "  Downloading speechrecognition-3.14.3-py3-none-any.whl.metadata (30 kB)\n",
            "Requirement already satisfied: typing-extensions in /usr/local/lib/python3.12/dist-packages (from SpeechRecognition) (4.15.0)\n",
            "Downloading speechrecognition-3.14.3-py3-none-any.whl (32.9 MB)\n",
            "\u001b[2K   \u001b[90m━━━━━━━━━━━━━━━━━━━━━━━━━━━━━━━━━━━━━━━━\u001b[0m \u001b[32m32.9/32.9 MB\u001b[0m \u001b[31m55.5 MB/s\u001b[0m eta \u001b[36m0:00:00\u001b[0m\n",
            "\u001b[?25hInstalling collected packages: SpeechRecognition\n",
            "Successfully installed SpeechRecognition-3.14.3\n"
          ]
        }
      ],
      "source": [
        "# 터미널에서 다음 명령어 실행:\n",
        "!pip install SpeechRecognition"
      ]
    },
    {
      "cell_type": "markdown",
      "metadata": {
        "id": "Eb8nVyBb9dG5"
      },
      "source": [
        "### 2. 음성 인식\n",
        "* sample.wav 파일을 불러와서 음성을 텍스트로 변환하세요."
      ]
    },
    {
      "cell_type": "code",
      "execution_count": null,
      "metadata": {
        "id": "pGgraj6o9dG6"
      },
      "outputs": [],
      "source": [
        "import speech_recognition as sr\n",
        "\n",
        "def transcribe_audio(audio_file):\n",
        "\n",
        "    # Recognizer 객체 생성\n",
        "    recognizer = sr.Recognizer()\n",
        "\n",
        "    # 1. 오디오 파일 로드\n",
        "    with sr.AudioFile(audio_file) as source:\n",
        "        # 주변 소음 조정 (선택적)\n",
        "        # recognizer.adjust_for_ambient_noise(source)\n",
        "\n",
        "        # 오디오 데이터 읽기\n",
        "        audio = recognizer.record(source)\n",
        "\n",
        "    try:\n",
        "        # 2. 전처리 3.특징 추출 4. 음향 모델 및 5. 언어 모델 (Google Speech Recognition API 내부에서 처리됨)\n",
        "        # 6. 디코딩: 음성을 텍스트로 변환\n",
        "        text = recognizer.recognize_google(audio, language=\"ko-KR\")\n",
        "        print(f\"인식된 텍스트: {text}\")\n",
        "        return text\n",
        "    except sr.UnknownValueError:\n",
        "        print(\"음성을 인식할 수 없습니다.\")\n",
        "    except sr.RequestError as e:\n",
        "        print(f\"Google Speech Recognition 서비스에 오류가 발생했습니다; {e}\")\n",
        "\n",
        "if __name__ == \"__main__\":\n",
        "    transcribe_audio(\"sample.wav\")"
      ]
    },
    {
      "cell_type": "code",
      "source": [
        "import speech_recognition as sr\n",
        "\n",
        "def myfunction(file):\n",
        "  recognizer = sr.Recognizer()\n",
        "\n",
        "  with sr.AudioFile(file) as source:\n",
        "    audio = recognizer.record(source)\n",
        "\n",
        "  try:\n",
        "    text = recognizer.recognize_google(audio, language='ko-KR')\n",
        "\n",
        "  except:\n",
        "    print(\"오류가 발생했습니다.\")\n",
        "    return \"\"\n",
        "\n",
        "  print(text)\n",
        "  return text\n"
      ],
      "metadata": {
        "id": "gAof_7QD-jyo"
      },
      "execution_count": null,
      "outputs": []
    },
    {
      "cell_type": "code",
      "source": [
        "class Mystt():\n",
        "\n",
        "  # 스태틱 변수 만들어서 등록하기 위함\n",
        "  cobject = []\n",
        "\n",
        "  def __init__(self):\n",
        "    self.recognizer = sr.Recognizer()\n",
        "\n",
        "    # 스태틱 변수 등록\n",
        "    self.cobject.append(self)\n",
        "\n",
        "  def transcribe_audio(self, file):\n",
        "    with sr.AudioFile(file) as source:\n",
        "      audio = recognizer.record(source)\n",
        "\n",
        "    try:\n",
        "      text = recognizer.recognize_google(audio, language='ko-KR')\n",
        "\n",
        "    except:\n",
        "      print(\"오류가 발생했습니다.\")\n",
        "      return \"\"\n",
        "\n",
        "    print(text)\n",
        "    return text"
      ],
      "metadata": {
        "id": "zWwIDQnJGnyD"
      },
      "execution_count": null,
      "outputs": []
    },
    {
      "cell_type": "code",
      "source": [
        "stt = Mystt()\n",
        "\n",
        "stt.transcribe_audio('sample.wav')"
      ],
      "metadata": {
        "colab": {
          "base_uri": "https://localhost:8080/",
          "height": 146
        },
        "id": "PBhZ2sjsHB_2",
        "outputId": "d31ea688-7a2d-4241-e6cf-edeccecb23e0"
      },
      "execution_count": null,
      "outputs": [
        {
          "output_type": "stream",
          "name": "stdout",
          "text": [
            "안녕하십니까 공공 쇼핑 000입니다 무엇을 도와 드릴까요 다름이 아니고 청소기 AS 좀 봐 달라고요네 고객님 정보 확인 후 도움 드리겠습니다 성함과 휴대폰 번호 말씀해 주세요 000-0006 소중한 정보 확인 감사드립니다 2018년 5월 8일 날 주문하신 파워 스윙 무선 진공 물걸레 청소기 말씀이십니까 그렇습니다 물걸레 청소기가 안 된다는 말씀이신가요네 진공은 됩니다 진공청소 되고 물걸레 청소가 안 된다는 말씀이세요 그렇죠네 고객님이 부분은 업체 확인을 한 후 AS 접수 도와드리도록 하겠습니다 확인 후에 다시 전화 드리겠습니다 언제쯤 전화가 오죠 업체 답변 받는 대로 바로 드리겠습니다 시간 양해 부탁드립니다네 알겠습니다 더 문의하실 사항 없으십니까 없습니다네 감사합니다 공공 쇼핑 0 0 0 2 - 1 6\n"
          ]
        },
        {
          "output_type": "execute_result",
          "data": {
            "text/plain": [
              "'안녕하십니까 공공 쇼핑 000입니다 무엇을 도와 드릴까요 다름이 아니고 청소기 AS 좀 봐 달라고요네 고객님 정보 확인 후 도움 드리겠습니다 성함과 휴대폰 번호 말씀해 주세요 000-0006 소중한 정보 확인 감사드립니다 2018년 5월 8일 날 주문하신 파워 스윙 무선 진공 물걸레 청소기 말씀이십니까 그렇습니다 물걸레 청소기가 안 된다는 말씀이신가요네 진공은 됩니다 진공청소 되고 물걸레 청소가 안 된다는 말씀이세요 그렇죠네 고객님이 부분은 업체 확인을 한 후 AS 접수 도와드리도록 하겠습니다 확인 후에 다시 전화 드리겠습니다 언제쯤 전화가 오죠 업체 답변 받는 대로 바로 드리겠습니다 시간 양해 부탁드립니다네 알겠습니다 더 문의하실 사항 없으십니까 없습니다네 감사합니다 공공 쇼핑 0 0 0 2 - 1 6'"
            ],
            "application/vnd.google.colaboratory.intrinsic+json": {
              "type": "string"
            }
          },
          "metadata": {},
          "execution_count": 22
        }
      ]
    },
    {
      "cell_type": "code",
      "source": [
        "Mystt().cobject[0].transcribe_audio('sample.wav')"
      ],
      "metadata": {
        "colab": {
          "base_uri": "https://localhost:8080/",
          "height": 146
        },
        "id": "O3XQRH9RH5u7",
        "outputId": "f0953815-5c1a-4871-a75d-c9bf407ea2e4"
      },
      "execution_count": null,
      "outputs": [
        {
          "output_type": "stream",
          "name": "stdout",
          "text": [
            "안녕하십니까 공공 쇼핑 000입니다 무엇을 도와 드릴까요 다름이 아니고 청소기 AS 좀 봐 달라고요네 고객님 정보 확인 후 도움 드리겠습니다 성함과 휴대폰 번호 말씀해 주세요 000-0006 소중한 정보 확인 감사드립니다 2018년 5월 8일 날 주문하신 파워 스윙 무선 진공 물걸레 청소기 말씀이십니까 그렇습니다 물걸레 청소기가 안 된다는 말씀이신가요네 진공은 됩니다 진공청소 되고 물걸레 청소가 안 된다는 말씀이세요 그렇죠네 고객님이 부분은 업체 확인을 한 후 AS 접수 도와드리도록 하겠습니다 확인 후에 다시 전화 드리겠습니다 언제쯤 전화가 오죠 업체 답변 받는 대로 바로 드리겠습니다 시간 양해 부탁드립니다네 알겠습니다 더 문의하실 사항 없으십니까 없습니다네 감사합니다 공공 쇼핑 0 0 0 2 - 1 6\n"
          ]
        },
        {
          "output_type": "execute_result",
          "data": {
            "text/plain": [
              "'안녕하십니까 공공 쇼핑 000입니다 무엇을 도와 드릴까요 다름이 아니고 청소기 AS 좀 봐 달라고요네 고객님 정보 확인 후 도움 드리겠습니다 성함과 휴대폰 번호 말씀해 주세요 000-0006 소중한 정보 확인 감사드립니다 2018년 5월 8일 날 주문하신 파워 스윙 무선 진공 물걸레 청소기 말씀이십니까 그렇습니다 물걸레 청소기가 안 된다는 말씀이신가요네 진공은 됩니다 진공청소 되고 물걸레 청소가 안 된다는 말씀이세요 그렇죠네 고객님이 부분은 업체 확인을 한 후 AS 접수 도와드리도록 하겠습니다 확인 후에 다시 전화 드리겠습니다 언제쯤 전화가 오죠 업체 답변 받는 대로 바로 드리겠습니다 시간 양해 부탁드립니다네 알겠습니다 더 문의하실 사항 없으십니까 없습니다네 감사합니다 공공 쇼핑 0 0 0 2 - 1 6'"
            ],
            "application/vnd.google.colaboratory.intrinsic+json": {
              "type": "string"
            }
          },
          "metadata": {},
          "execution_count": 25
        }
      ]
    },
    {
      "cell_type": "code",
      "source": [
        "myfunction('sample.wav')"
      ],
      "metadata": {
        "colab": {
          "base_uri": "https://localhost:8080/",
          "height": 146
        },
        "id": "v-byKegY-jAK",
        "outputId": "53db85df-24f9-45a1-e31b-5618af4fb334"
      },
      "execution_count": null,
      "outputs": [
        {
          "output_type": "stream",
          "name": "stdout",
          "text": [
            "안녕하십니까 공공 쇼핑 000입니다 무엇을 도와 드릴까요 다름이 아니고 청소기 AS 좀 봐 달라고요네 고객님 정보 확인 후 도움 드리겠습니다 성함과 휴대폰 번호 말씀해 주세요 000-0006 소중한 정보 확인 감사드립니다 2018년 5월 8일 날 주문하신 파워 스윙 무선 진공 물걸레 청소기 말씀이십니까 그렇습니다 물걸레 청소기가 안 된다는 말씀이신가요네 진공은 됩니다 진공청소 되고 물걸레 청소가 안 된다는 말씀이세요 그렇죠네 고객님이 부분은 업체 확인을 한 후 AS 접수 도와드리도록 하겠습니다 확인 후에 다시 전화 드리겠습니다 언제쯤 전화가 오죠 업체 답변 받는 대로 바로 드리겠습니다 시간 양해 부탁드립니다네 알겠습니다 더 문의하실 사항 없으십니까 없습니다네 감사합니다 공공 쇼핑 0 0 0 2 - 1 6\n"
          ]
        },
        {
          "output_type": "execute_result",
          "data": {
            "text/plain": [
              "'안녕하십니까 공공 쇼핑 000입니다 무엇을 도와 드릴까요 다름이 아니고 청소기 AS 좀 봐 달라고요네 고객님 정보 확인 후 도움 드리겠습니다 성함과 휴대폰 번호 말씀해 주세요 000-0006 소중한 정보 확인 감사드립니다 2018년 5월 8일 날 주문하신 파워 스윙 무선 진공 물걸레 청소기 말씀이십니까 그렇습니다 물걸레 청소기가 안 된다는 말씀이신가요네 진공은 됩니다 진공청소 되고 물걸레 청소가 안 된다는 말씀이세요 그렇죠네 고객님이 부분은 업체 확인을 한 후 AS 접수 도와드리도록 하겠습니다 확인 후에 다시 전화 드리겠습니다 언제쯤 전화가 오죠 업체 답변 받는 대로 바로 드리겠습니다 시간 양해 부탁드립니다네 알겠습니다 더 문의하실 사항 없으십니까 없습니다네 감사합니다 공공 쇼핑 0 0 0 2 - 1 6'"
            ],
            "application/vnd.google.colaboratory.intrinsic+json": {
              "type": "string"
            }
          },
          "metadata": {},
          "execution_count": 9
        }
      ]
    },
    {
      "cell_type": "markdown",
      "metadata": {
        "id": "o6k5VGHS9dG7"
      },
      "source": [
        "* 개인별 실습(응용)\n",
        "    * SpeechRecognition 라이브러리의 공식 Document를 보고 마이크로 음성을 입력받아서 텍스트로 변환하는 소스코드를 완성해보세요.\n",
        "    * 개별 로컬 PC에서 실행 후 마이크로 녹음하여 테스트해보시면 됩니다. 코드만 안내드리고 넘어가겟습니다."
      ]
    },
    {
      "cell_type": "code",
      "execution_count": null,
      "metadata": {
        "id": "vDTxfa_I9dG7"
      },
      "outputs": [],
      "source": [
        "!pip install sounddevice"
      ]
    },
    {
      "cell_type": "code",
      "execution_count": null,
      "metadata": {
        "id": "Ltkee0299dG8"
      },
      "outputs": [],
      "source": [
        "# 아래에 구현해주세요.\n",
        "import sounddevice as sd\n",
        "import numpy as np\n",
        "import wave\n",
        "import tempfile\n",
        "import os\n",
        "import speech_recognition as sr\n",
        "\n",
        "def speech_to_text():\n",
        "    # 1. 음성 입력: Recognizer 객체 생성\n",
        "    recognizer = sr.Recognizer()\n",
        "\n",
        "    # 오디오 설정\n",
        "    sample_rate = 16000  # 샘플링 레이트\n",
        "    duration = 5  # 녹음 시간 (초)\n",
        "    channels = 1  # 모노 채널\n",
        "\n",
        "    print(\"음성을 입력하세요...\")\n",
        "\n",
        "    # 2. 전처리: 주변 소음 조정을 위한 짧은 녹음\n",
        "    print(\"주변 소음을 조정 중...\")\n",
        "    noise_audio = sd.rec(int(1 * sample_rate), samplerate=sample_rate, channels=channels, dtype='int16')\n",
        "    sd.wait()\n",
        "\n",
        "    # 3. 특징 추출을 위한 오디오 녹음\n",
        "    print(\"음성을 녹음 중...\")\n",
        "    audio_data = sd.rec(int(duration * sample_rate), samplerate=sample_rate, channels=channels, dtype='int16')\n",
        "    sd.wait()\n",
        "\n",
        "    # WAV 파일로 저장 (speech_recognition이 WAV 파일을 요구함)\n",
        "    with tempfile.NamedTemporaryFile(suffix='.wav', delete=False) as temp_wav:\n",
        "        temp_filename = temp_wav.name\n",
        "\n",
        "    # WAV 파일 생성\n",
        "    with wave.open(temp_filename, 'wb') as wav_file:\n",
        "        wav_file.setnchannels(channels)\n",
        "        wav_file.setsampwidth(2)  # 16-bit\n",
        "        wav_file.setframerate(sample_rate)\n",
        "        wav_file.writeframes(audio_data.tobytes())\n",
        "\n",
        "    # WAV 파일을 speech_recognition으로 읽기\n",
        "    with sr.AudioFile(temp_filename) as source:\n",
        "        audio = recognizer.record(source)\n",
        "\n",
        "    # 임시 파일 삭제\n",
        "    os.unlink(temp_filename)\n",
        "\n",
        "    try:\n",
        "        # 4. 음향 모델 및 5. 언어 모델 (Google Speech Recognition API 내부에서 처리됨)\n",
        "        # 6. 디코딩: 음성을 텍스트로 변환\n",
        "        text = recognizer.recognize_google(audio, language=\"ko-KR\")\n",
        "        print(f\"인식된 텍스트: {text}\")\n",
        "        return text\n",
        "    except sr.UnknownValueError:\n",
        "        print(\"음성을 인식할 수 없습니다.\")\n",
        "    except sr.RequestError as e:\n",
        "        print(f\"Google Speech Recognition 서비스에 요청할 수 없습니다; {e}\")\n",
        "\n",
        "if __name__ == \"__main__\":\n",
        "    speech_to_text()\n",
        "\n",
        "\n",
        "\n",
        "\n",
        "\n",
        "\n",
        "\n",
        "\n",
        "\n",
        "\n",
        "\n",
        "\n",
        "\n",
        "\n",
        "\n",
        "\n",
        "\n",
        "\n",
        "\n"
      ]
    }
  ],
  "metadata": {
    "language_info": {
      "name": "python"
    },
    "colab": {
      "provenance": []
    },
    "kernelspec": {
      "name": "python3",
      "display_name": "Python 3"
    }
  },
  "nbformat": 4,
  "nbformat_minor": 0
}